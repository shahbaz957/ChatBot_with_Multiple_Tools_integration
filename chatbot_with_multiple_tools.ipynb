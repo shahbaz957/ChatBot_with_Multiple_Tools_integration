{
 "cells": [
  {
   "cell_type": "markdown",
   "id": "3f2618e0",
   "metadata": {},
   "source": [
    "# **`Chat bot with Multiple Tool Calls`**"
   ]
  },
  {
   "cell_type": "markdown",
   "id": "a5b1e27c",
   "metadata": {},
   "source": [
    "# we integrate arxiv and wikipedia with our ChatBot"
   ]
  },
  {
   "cell_type": "code",
   "execution_count": 2,
   "id": "f412858d",
   "metadata": {},
   "outputs": [],
   "source": [
    "from langchain_community.tools import ArxivQueryRun , WikipediaQueryRun\n",
    "from langchain_community.utilities import WikipediaAPIWrapper , ArxivAPIWrapper # for running queries \n"
   ]
  },
  {
   "cell_type": "code",
   "execution_count": 6,
   "id": "286de3c1",
   "metadata": {},
   "outputs": [],
   "source": [
    "api_wrapper_arxiv = ArxivAPIWrapper(top_k_results=2 , doc_content_chars_max=5000)\n",
    "arxiv = ArxivQueryRun(api_wrapper=api_wrapper_arxiv)"
   ]
  },
  {
   "cell_type": "code",
   "execution_count": 7,
   "id": "9af0d690",
   "metadata": {},
   "outputs": [
    {
     "name": "stdout",
     "output_type": "stream",
     "text": [
      "arxiv\n"
     ]
    }
   ],
   "source": [
    "print(arxiv.name)"
   ]
  },
  {
   "cell_type": "code",
   "execution_count": 8,
   "id": "90f578f9",
   "metadata": {},
   "outputs": [
    {
     "data": {
      "text/plain": [
       "\"Published: 2024-07-22\\nTitle: Attention Is All You Need But You Don't Need All Of It For Inference of Large Language Models\\nAuthors: Georgy Tyukin, Gbetondji J-S Dovonon, Jean Kaddour, Pasquale Minervini\\nSummary: The inference demand for LLMs has skyrocketed in recent months, and serving\\nmodels with low latencies remains challenging due to the quadratic input length\\ncomplexity of the attention layers. In this work, we investigate the effect of\\ndropping MLP and attention layers at inference time on the performance of\\nLlama-v2 models. We find that dropping dreeper attention layers only marginally\\ndecreases performance but leads to the best speedups alongside dropping entire\\nlayers. For example, removing 33\\\\% of attention layers in a 13B Llama2 model\\nresults in a 1.8\\\\% drop in average performance over the OpenLLM benchmark. We\\nalso observe that skipping layers except the latter layers reduces performances\\nfor more layers skipped, except for skipping the attention layers.\\n\\nPublished: 2021-07-16\\nTitle: All the attention you need: Global-local, spatial-channel attention for image retrieval\\nAuthors: Chull Hwan Song, Hye Joo Han, Yannis Avrithis\\nSummary: We address representation learning for large-scale instance-level image\\nretrieval. Apart from backbone, training pipelines and loss functions, popular\\napproaches have focused on different spatial pooling and attention mechanisms,\\nwhich are at the core of learning a powerful global image representation. There\\nare different forms of attention according to the interaction of elements of\\nthe feature tensor (local and global) and the dimensions where it is applied\\n(spatial and channel). Unfortunately, each study addresses only one or two\\nforms of attention and applies it to different problems like classification,\\ndetection or retrieval.\\n  We present global-local attention module (GLAM), which is attached at the end\\nof a backbone network and incorporates all four forms of attention: local and\\nglobal, spatial and channel. We obtain a new feature tensor and, by spatial\\npooling, we learn a powerful embedding for image retrieval. Focusing on global\\ndescriptors, we provide empirical evidence of the interaction of all forms of\\nattention and improve the state of the art on standard benchmarks.\""
      ]
     },
     "execution_count": 8,
     "metadata": {},
     "output_type": "execute_result"
    }
   ],
   "source": [
    "arxiv.invoke(\"Attention is all you need\")"
   ]
  },
  {
   "cell_type": "code",
   "execution_count": 9,
   "id": "ac5e42dc",
   "metadata": {},
   "outputs": [],
   "source": [
    "api_wrapper_wikipedia = WikipediaAPIWrapper(top_k_results=2 , doc_content_chars_max=500)\n",
    "wikipedia = WikipediaQueryRun(api_wrapper=api_wrapper_wikipedia)"
   ]
  },
  {
   "cell_type": "code",
   "execution_count": 11,
   "id": "19d85a1d",
   "metadata": {},
   "outputs": [
    {
     "data": {
      "text/plain": [
       "'Page: Abul A\\'la Maududi\\nSummary: Abul A\\'la al-Maududi (Urdu: ابو الاعلیٰ المودودی, romanized: Abū al-Aʿlā al-Mawdūdī; (1903-09-25)25 September 1903 – (1979-09-22)22 September 1979) was an Islamic scholar, Islamist ideologue, Muslim philosopher, jurist, historian, journalist, activist, and scholar active in British India and later, following the partition, in Pakistan. Described by Wilfred Cantwell Smith as \"the most systematic thinker of modern Islam\", his numerous works, which \"covered a range '"
      ]
     },
     "execution_count": 11,
     "metadata": {},
     "output_type": "execute_result"
    }
   ],
   "source": [
    "wikipedia.invoke(\"Who is Maulana Moududi\")"
   ]
  },
  {
   "cell_type": "code",
   "execution_count": 13,
   "id": "c4f77f97",
   "metadata": {},
   "outputs": [],
   "source": [
    "# setup of API keys\n",
    "from dotenv import load_dotenv\n",
    "load_dotenv()\n",
    "import os \n",
    "os.environ['TAVILY_API_KEY'] = os.getenv(\"TAVILY_API_KEY\")\n",
    "os.environ['GROQ_API_KEY'] = os.getenv(\"GROQ_API_KEY\")\n"
   ]
  },
  {
   "cell_type": "code",
   "execution_count": 15,
   "id": "41a3655e",
   "metadata": {},
   "outputs": [],
   "source": [
    "from langchain_community.tools.tavily_search import TavilySearchResults\n",
    "tavily = TavilySearchResults()"
   ]
  },
  {
   "cell_type": "code",
   "execution_count": null,
   "id": "f25caef8",
   "metadata": {},
   "outputs": [
    {
     "data": {
      "text/plain": [
       "[{'title': 'The latest AI news we announced in June - Google Blog',\n",
       "  'url': 'https://blog.google/technology/ai/google-ai-updates-june-2025/',\n",
       "  'content': '# The latest AI news we announced in June\\n\\nJul 02, 2025\\n\\nHere’s a recap of some of our biggest AI updates from June, including more ways to search with AI Mode, a new way to share your NotebookLM notebooks publicly, and a new AI to help researchers better understand the human genome.\\n\\nSuperG\\n\\n## Basic explainer [...] Search finds new voice, and photos bright,  \\nWhile Chromebooks gain AI\\'s keenest edge,  \\nAnd learning\\'s path is filled with light.\\n\\nGenomes unlock, from knowledge pledge,  \\nAnd robots learn, with vision clear,  \\nWhile cancer\\'s foe meets AI\\'s siege.\\n\\nFrom Google\\'s labs, new AI doth spring,  \\nWith Gemini\\'s models taking flight,  \\nAnd tools for coders, joy to bring.\\n\\nSearch finds new voice, and photos bright,  \\nWhile Chromebooks gain AI\\'s keenest edge,  \\nAnd learning\\'s path is filled with light. [...] a text card reading \"AI to revolutionize scientific discovery\"\\n\\nWe introduced AlphaGenome: AI to better understand the human genome. Our new, unifying DNA sequence model advances regulatory variant-effect prediction and promises to shed new light on genome function. To advance scientific research, we’re making AlphaGenome available in preview via our AlphaGenome API for non-commercial research, with plans to release the model in the future.',\n",
       "  'score': 0.7393665},\n",
       " {'title': 'AI News & Artificial Intelligence | TechCrunch',\n",
       "  'url': 'https://techcrunch.com/category/artificial-intelligence/',\n",
       "  'content': 'Contact Us\\n\\n# AI\\n\\nNews coverage on artificial intelligence and machine learning tech, the companies building them, and the ethical issues AI raises today. This encompasses generative AI, including large language models, text-to-image and text-to-video models; speech recognition and generation; and predictive analytics.\\n\\n### \\n\\nUAE flag flying in front of ocean/skyline chips\\n\\n### UAE’s deal to buy Nvidia AI chips reportedly on hold\\n\\nLovable team (Rights: Anton Osika) [...] ### Mira Murati’s Thinking Machines Lab is worth $12B in seed round\\n\\ngoogle search app ios\\n\\n### Google Discover adds AI summaries, threatening publishers with further traffic declines\\n\\n### AI coding tools are shifting to a surprising place: The terminal\\n\\nPeople walking in a maze shaped as a brain\\n\\n### Research leaders urge tech industry to monitor AI’s ‘thoughts’\\n\\nThe logo of the French company Mistral AI.\\n\\n### Mistral releases Voxtral, its first open source AI audio model\\n\\nPostgres, ParadeDB [...] ### Lovable becomes a unicorn with $200M Series A just 8 months after launch\\n\\nQpiAI Indus quantum computer\\n\\n### India eyes global quantum computer push — and QpiAI is its chosen vehicle\\n\\n### Scale AI lays off 14% of staff, largely in data-labeling business\\n\\nElon Musk\\n\\n### OpenAI and Anthropic researchers decry ‘reckless’ safety culture at Elon Musk’s xAI\\n\\nNvidia logo\\n\\n### Nvidia’s resumption of H20 chip sales related to rare-earth element trade talks\\n\\nxAI anime',\n",
       "  'score': 0.7067782},\n",
       " {'title': 'AI Adoption Among Small Businesses Surges 41% in 2025 ...',\n",
       "  'url': 'https://finance.yahoo.com/news/ai-adoption-among-small-businesses-130500714.html',\n",
       "  'content': 'DALLAS, July 17, 2025--(BUSINESS WIRE)--A new national survey reveals a dramatic shift in how small businesses are embracing artificial intelligence (AI), with current usage jumping from 39% in 2024 to 55% in 2025—a 41% increase. The second annual AI and Small Business survey, conducted by Thryv® (NASDAQ: THRY), underscores how AI is rapidly becoming a cornerstone of small business strategy, helping owners save time, reduce costs, and compete more effectively in an unpredictable economy. [...] The survey, conducted in May 2025 and based on 540 interviews with small business decision-makers, shows that AI adoption is especially strong among companies with 10 to 100 employees, where usage jumped year-over-year from 47% to 68%. Younger business owners and those in professional services and retail sectors are leading the charge, integrating AI into marketing, customer service, and operations.',\n",
       "  'score': 0.683948},\n",
       " {'title': 'The 2025 AI Index Report | Stanford HAI',\n",
       "  'url': 'https://hai.stanford.edu/ai-index/2025-ai-index-report',\n",
       "  'content': '### 2. AI is increasingly embedded in everyday life.\\n\\nFrom healthcare to transportation, AI is rapidly moving from the lab to daily life. In 2023, the FDA approved 223 AI-enabled medical devices, up from just six in 2015. On the roads, self-driving cars are no longer experimental: Waymo, one of the largest U.S. operators, provides over 150,000 autonomous rides each week, while Baidu’s affordable Apollo Go robotaxi fleet now serves numerous cities across China. [...] Artificial Intelligence has leapt to the forefront of global discourse, garnering increased attention from practitioners, industry leaders, policymakers, and the general public. The diversity of opinions and debates gathered from news articles this year illustrates just how broadly AI is being investigated, studied, and applied. However, the field of AI is still evolving rapidly and even experts have a hard time understanding and tracking progress across the field. [...] Artificial Intelligence has leapt to the forefront of global discourse, garnering increased attention from practitioners, industry leaders, policymakers, and the general public. The diversity of opinions and debates gathered from news articles this year illustrates just how broadly AI is being investigated, studied, and applied. However, the field of AI is still evolving rapidly and even experts have a hard time understanding and tracking progress across the field.',\n",
       "  'score': 0.6244086},\n",
       " {'title': '5 AI Trends Shaping Innovation and ROI in 2025 | Morgan Stanley',\n",
       "  'url': 'https://www.morganstanley.com/insights/articles/ai-trends-reasoning-frontier-models-2025-tmt',\n",
       "  'content': '## 5. Software Companies Set Sights on Agentic AI\\n\\nSoftware executives spoke about their current use of AI for productivity gains in marketing and engineering and their longer-term prospects to gain market share in an agentic computing future. These companies are aiming to create large systems that deploy AI agents to make decisions, take autonomous actions and adapt to changing environments for real-world applications across industries. [...] “Recent AI advancements will harness the power of Jevons Paradox, to drive the long-term demand for AI and further increase the total addressable market for all participants in the ecosystem,” said Dave Chen, Head of Global Technology Investment Banking at Morgan Stanley, referring to the effect when increased efficiency leads to higher overall consumption.\\n\\n## 3. LLMs See Potential in AI Reasoning for Enterprises [...] ## 1. AI Reasoning and Custom Silicon Fuel Demand for Chips\\n\\nAI reasoning is one of the biggest drivers of increasing compute demand, and thus semiconductors, said executives from companies that design and make chips. AI reasoning moves beyond basic understanding and into advanced learning and decision making, which requires additional compute for pre-training, post-training and inference.',\n",
       "  'score': 0.55420566}]"
      ]
     },
     "execution_count": 16,
     "metadata": {},
     "output_type": "execute_result"
    }
   ],
   "source": [
    "results = tavily.invoke('What is the current AI News')"
   ]
  },
  {
   "cell_type": "code",
   "execution_count": 27,
   "id": "287cbf00",
   "metadata": {},
   "outputs": [],
   "source": [
    "results = tavily.invoke('What is the current AI News for july 17 2025')"
   ]
  },
  {
   "cell_type": "code",
   "execution_count": null,
   "id": "30627421",
   "metadata": {},
   "outputs": [
    {
     "data": {
      "text/plain": [
       "dict"
      ]
     },
     "execution_count": 24,
     "metadata": {},
     "output_type": "execute_result"
    }
   ],
   "source": [
    "results[2]\n"
   ]
  },
  {
   "cell_type": "code",
   "execution_count": 29,
   "id": "a01fbf73",
   "metadata": {},
   "outputs": [
    {
     "name": "stdout",
     "output_type": "stream",
     "text": [
      "******************************** NEWS 1 ************************************\n",
      "From personalized healthcare to automated investing, AI has the potential to revolutionize nearly every aspect of business.\n",
      "\n",
      "\n",
      "******************************** NEWS 2 ************************************\n",
      "The idea was to sell Chinese businesses Nvidia's fourth-best chip, he said, so that “they get addicted to the American technology stack.” Days\n",
      "\n",
      "\n",
      "******************************** NEWS 3 ************************************\n",
      "Wall Street giants are purchasing utilities amid the ongoing AI boom to benefit from the rising demand for electricity from data centers.\n",
      "\n",
      "\n",
      "******************************** NEWS 4 ************************************\n",
      "AI is also helping expand into global markets through automated multilingual outputs. Experts say the tech is reshaping how content is created and distributed.\n",
      "\n",
      "\n",
      "******************************** NEWS 5 ************************************\n",
      "July 17, 2025. Artificial intelligence has transformed fields like medicine and finance, but it hasn't gained much traction in manufacturing.\n",
      "\n",
      "\n"
     ]
    }
   ],
   "source": [
    "from pprint import pprint\n",
    "for i in range(len(results)):\n",
    "    print(f\"******************************** NEWS {i+1} ************************************\")\n",
    "    print(results[i]['content'])\n",
    "    print('\\n')"
   ]
  },
  {
   "cell_type": "code",
   "execution_count": 30,
   "id": "da59e413",
   "metadata": {},
   "outputs": [],
   "source": [
    "tools = [arxiv , wikipedia , tavily]"
   ]
  },
  {
   "cell_type": "code",
   "execution_count": 35,
   "id": "520664a1",
   "metadata": {},
   "outputs": [],
   "source": [
    "from langchain_groq import ChatGroq\n",
    "from langchain_core.messages import HumanMessage , AIMessage , AnyMessage\n",
    "model = ChatGroq(model=\"qwen/qwen3-32b\")"
   ]
  },
  {
   "cell_type": "code",
   "execution_count": 37,
   "id": "c774d54e",
   "metadata": {},
   "outputs": [
    {
     "data": {
      "text/plain": [
       "[{'name': 'tavily_search_results_json',\n",
       "  'args': {'query': 'recent AI news'},\n",
       "  'id': 'j71947kcn',\n",
       "  'type': 'tool_call'}]"
      ]
     },
     "execution_count": 37,
     "metadata": {},
     "output_type": "execute_result"
    }
   ],
   "source": [
    "llm_with_tool = model.bind_tools(tools)\n",
    "llm_with_tool.invoke([HumanMessage(content=\"What is the recent AI news\")]).tool_calls"
   ]
  },
  {
   "cell_type": "code",
   "execution_count": 50,
   "id": "c42e1be2",
   "metadata": {},
   "outputs": [],
   "source": [
    "from typing import TypedDict , Annotated\n",
    "from langgraph.graph.message import add_messages\n",
    "class State(TypedDict):\n",
    "    \n",
    "    messages : Annotated[list[AnyMessage] , add_messages]"
   ]
  },
  {
   "cell_type": "code",
   "execution_count": 51,
   "id": "4c699614",
   "metadata": {},
   "outputs": [],
   "source": [
    "from IPython.display import Image, display\n",
    "from langgraph.graph import StateGraph, START, END\n",
    "from langgraph.prebuilt import ToolNode , tools_condition\n",
    "\n",
    "### Node Definition\n",
    "def tool_calling_llm(state:State):\n",
    "    return {\"messages\" : [llm_with_tool.invoke(state['messages'])]}"
   ]
  },
  {
   "cell_type": "code",
   "execution_count": 52,
   "id": "299ad380",
   "metadata": {},
   "outputs": [
    {
     "data": {
      "image/png": "[encoded data removed]",
      "text/plain": [
       "<IPython.core.display.Image object>"
      ]
     },
     "metadata": {},
     "output_type": "display_data"
    }
   ],
   "source": [
    "builder = StateGraph(State)\n",
    "builder.add_node('tool_calling_llm' , tool_calling_llm)\n",
    "builder.add_node('tools' , ToolNode(tools))\n",
    "\n",
    "## Defining the Workflow\n",
    "builder.add_edge(START , 'tool_calling_llm')\n",
    "builder.add_conditional_edges(\n",
    "    'tool_calling_llm',\n",
    "    tools_condition\n",
    ")\n",
    "builder.add_edge('tools' , END)\n",
    "\n",
    "graph =builder.compile()\n",
    "display(Image(graph.get_graph().draw_mermaid_png()))"
   ]
  },
  {
   "cell_type": "code",
   "execution_count": 61,
   "id": "f9c24217",
   "metadata": {},
   "outputs": [
    {
     "name": "stdout",
     "output_type": "stream",
     "text": [
      "================================\u001b[1m Human Message \u001b[0m=================================\n",
      "\n",
      "what is the recent AI advancement in Meta\n",
      "==================================\u001b[1m Ai Message \u001b[0m==================================\n",
      "Tool Calls:\n",
      "  tavily_search_results_json (2qejrnysf)\n",
      " Call ID: 2qejrnysf\n",
      "  Args:\n",
      "    query: recent AI advancements in Meta 2023-2024\n",
      "=================================\u001b[1m Tool Message \u001b[0m=================================\n",
      "Name: tavily_search_results_json\n",
      "\n",
      "[{\"title\": \"Connect 2024: The responsible approach we're taking to generative AI\", \"url\": \"https://ai.meta.com/blog/responsible-ai-connect-2024/\", \"content\": \"Today at Connect 2024, we shared updates for Meta AI features and released Llama 3.2, a collection of models that includes new vision capabilities as well as lightweight models that can fit on mobile devices. With the rapidly evolving AI landscape, we recognize the importance of sharing our responsibility and safety approach with everyone—whether you’re a developer building with Llama or you’re using Meta AI experiences to help learn, create, and connect with the things and people that matter [...] We’ve developed our new image and voice features with safety and privacy in mind. In regions where people are able to upload images to Meta AI, we’ve taken steps to prevent Meta AI from being used to identify people in those images, such as safety-tuning to help detect prompts that ask Meta AI to identify who is in an image and output filtering to help prevent responses. We built safeguards to help protect against image edits resulting in harmful or inappropriate content. Because Meta AI now [...] People should know when they’re seeing and interacting with AI-related content. When people first begin to use our generative AI features, we have introductory, in-product experiences to help explain how to best use them. Images generated or edited by Meta AI’s Imagine feature also include visual watermarks to make it clear that these images have been generated with AI. Invisible watermarks and metadata are embedded within the image files as additional layers of transparency. And, we recently\", \"score\": 0.8405867}, {\"title\": \"Meta Connect 2024: Exploring the Future of AI, AR, and VR - LineZero\", \"url\": \"https://www.linezero.com/blog/meta-connect-2024-summary\", \"content\": \"When Meta introduced Quest 3 last year, it was not just more powerful than its predecessor, Quest 2, it was a mixed reality device at a consumer-friendly price. This year they have made significant improvements to the Quest ecosystem that directly benefit the 3S, which includes a rebuilt Meta Horizon OS for spatial computing, better support for essential 2D apps, spatial audio, and improved Passthrough’s contrast and color. [...] From advancements in artificial intelligence to transformative applications of VR, Meta Connect 2024 showcases the myriad possibilities that Meta brings to personal and professional spaces.\\n\\nCurious about how Meta's technologies can take connectivity to the next level? Dive into our blog for an in-depth summary of Meta Connect 2024, where we explore the future of connectivity and the technology that powers it.\\n\\nIn this blog, you will find: [...] As Meta continues to innovate, AI’s role in enhancing business engagement models will only grow, helping companies increase efficiency, deepen customer relationships, and drive growth.\\n\\n## Meta's Ray-Ban Glasses: AI Innovations & New Partnerships\", \"score\": 0.8036831}, {\"title\": \"Top Meta's AI Products: How Meta Innovated in Artificial Intelligence\", \"url\": \"https://airtics.org/blog/top-metas-ai-products-how-meta-innovated-in-artificial-intelligence/\", \"content\": \"In late 2023, Meta launched its AI chatbot , available across various platforms: Integrated into WhatsApp. Available on Instagram. Accessible through Facebook Messenger.\", \"score\": 0.755078}, {\"title\": \"Living in the Future - About Meta\", \"url\": \"https://about.fb.com/news/2023/12/metas-2023-progress-in-ai-and-mixed-reality/\", \"content\": \"The progress we made in 2023 means generative AI is making its way into the heart of the world's most popular apps, mixed reality is now at the\", \"score\": 0.71758664}, {\"title\": \"Research - AI at Meta\", \"url\": \"https://ai.meta.com/research/\", \"content\": \"Meta\\n\\nRESEARCH\\n\\n# Advancing AI through fundamental and applied research\\n\\nWith a decade of experience, the Meta FAIR team aims to achieve advanced machine intelligence (AMI) to accelerate the potential of future Meta products for the benefit of people.\\n\\n## FEATURED PROJECT\\n\\nSeamless Interaction\\n\\nAdvancing AI research modeling of face-to-face dynamics, including expressive gestures, active listening, turn-taking and visual synchrony.\\n\\n## RESEARCH PROJECTS\\n\\nV-JEPA thumbnail\\n\\n### V-JEPA 2 [...] DIGIT thumbnail\\n\\n### DIGIT\\n\\nAn artificial finger-shaped tactile sensor that digitizes touch with human-level precision.\\n\\nMovie Gen thumbnail\\n\\n### Movie Gen\\n\\nThe most advanced family of media foundation AI models empowering immersive storytelling.\\n\\nAudiobox thumbnail\\n\\n### Audiobox\\n\\nA foundation research model for audio generation that can generate voices and sound effects.\\n\\nDINOv2 thumbnail\\n\\n### DINOv2\\n\\nA self-supervised Vision Transformer Model for image-level and pixel-level visual tasks. [...] AI Chemistry thumbnail\\n\\n### AI Chemistry\\n\\nBuilding AI systems solving most important chemistry and material problems for Meta and the world.\\n\\n## META FUNDAMENTAL AI RESEARCH\\n\\nOver a decade of   \\nAI advancements\\n\\nMeta FAIR is one of the only groups in the world with all the prerequisites for delivering true breakthroughs with some of the brightest minds in the industry.\\n\\n## RESEARCH\\n\\nLearn about our latest Al breakthroughs and innovations from our library of published papers.\\n\\n## POPULAR DEMOS\", \"score\": 0.5501488}]\n"
     ]
    }
   ],
   "source": [
    "from pprint import pprint\n",
    "messages = graph.invoke({\"messages\" : HumanMessage(content=\"what is the recent AI advancement in Meta\")})\n",
    "for m in messages['messages']:\n",
    "    m.pretty_print()"
   ]
  },
  {
   "cell_type": "code",
   "execution_count": 62,
   "id": "120beefe",
   "metadata": {},
   "outputs": [
    {
     "name": "stdout",
     "output_type": "stream",
     "text": [
      "================================\u001b[1m Human Message \u001b[0m=================================\n",
      "\n",
      "1706.03762\n",
      "==================================\u001b[1m Ai Message \u001b[0m==================================\n",
      "Tool Calls:\n",
      "  arxiv (34d95xh76)\n",
      " Call ID: 34d95xh76\n",
      "  Args:\n",
      "    query: 1706.03762\n",
      "=================================\u001b[1m Tool Message \u001b[0m=================================\n",
      "Name: arxiv\n",
      "\n",
      "Published: 2023-08-02\n",
      "Title: Attention Is All You Need\n",
      "Authors: Ashish Vaswani, Noam Shazeer, Niki Parmar, Jakob Uszkoreit, Llion Jones, Aidan N. Gomez, Lukasz Kaiser, Illia Polosukhin\n",
      "Summary: The dominant sequence transduction models are based on complex recurrent or\n",
      "convolutional neural networks in an encoder-decoder configuration. The best\n",
      "performing models also connect the encoder and decoder through an attention\n",
      "mechanism. We propose a new simple network architecture, the Transformer, based\n",
      "solely on attention mechanisms, dispensing with recurrence and convolutions\n",
      "entirely. Experiments on two machine translation tasks show these models to be\n",
      "superior in quality while being more parallelizable and requiring significantly\n",
      "less time to train. Our model achieves 28.4 BLEU on the WMT 2014\n",
      "English-to-German translation task, improving over the existing best results,\n",
      "including ensembles by over 2 BLEU. On the WMT 2014 English-to-French\n",
      "translation task, our model establishes a new single-model state-of-the-art\n",
      "BLEU score of 41.8 after training for 3.5 days on eight GPUs, a small fraction\n",
      "of the training costs of the best models from the literature. We show that the\n",
      "Transformer generalizes well to other tasks by applying it successfully to\n",
      "English constituency parsing both with large and limited training data.\n"
     ]
    }
   ],
   "source": [
    "from pprint import pprint\n",
    "messages = graph.invoke({\"messages\" : HumanMessage(content=\"1706.03762\")})\n",
    "for m in messages['messages']:\n",
    "    m.pretty_print()"
   ]
  },
  {
   "cell_type": "code",
   "execution_count": null,
   "id": "83f28d3e",
   "metadata": {},
   "outputs": [],
   "source": []
  }
 ],
 "metadata": {
  "kernelspec": {
   "display_name": "Python 3",
   "language": "python",
   "name": "python3"
  },
  "language_info": {
   "codemirror_mode": {
    "name": "ipython",
    "version": 3
   },
   "file_extension": ".py",
   "mimetype": "text/x-python",
   "name": "python",
   "nbconvert_exporter": "python",
   "pygments_lexer": "ipython3",
   "version": "3.12.0"
  }
 },
 "nbformat": 4,
 "nbformat_minor": 5
}
